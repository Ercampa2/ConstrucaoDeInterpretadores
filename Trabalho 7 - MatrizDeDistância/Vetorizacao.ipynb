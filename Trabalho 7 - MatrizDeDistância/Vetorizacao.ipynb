{
  "cells": [
    {
      "cell_type": "markdown",
      "metadata": {
        "id": "Ymhc4Gq99c1Q"
      },
      "source": [
        "Enzo Ramon Campa\n",
        "\n",
        "Sua tarefa será gerar uma matriz de distância, computando o cosseno do ângulo entre todos os \n",
        "vetores que encontramos usando o tf-idf. Para isso use a seguinte fórmula para o cálculo do cosseno \n",
        "use  a  fórmula  apresentada  em  Word2Vector  (frankalcantara.com) \n",
        "(https://frankalcantara.com/Aulas/Nlp/out/Aula4.html#/0/4/2) e apresentada na figura a seguir:  \n",
        " \n",
        "O resultado  deste trabalho  será uma matriz que relaciona cada um dos vetores já calculados \n",
        "com todos os outros vetores disponíveis na matriz termo-documento. \n",
        "\n"
      ],
      "id": "Ymhc4Gq99c1Q"
    },
    {
      "cell_type": "code",
      "execution_count": null,
      "metadata": {
        "id": "db807513"
      },
      "outputs": [],
      "source": [
        "import requests\n",
        "from bs4 import BeautifulSoup\n",
        "import re\n",
        "import math\n",
        "import numpy as np\n",
        "import spacy\n",
        "npl = spacy.load(\"en_core_web_sm\")"
      ],
      "id": "db807513"
    },
    {
      "cell_type": "code",
      "source": [
        "words = [[]]\n",
        "sentences = []\n",
        "wordCountPerSentence = [[]]\n",
        "tf = [[]] \n",
        "amountPerSentence = []\n",
        "idf = []\n",
        "tfidf = [[]]\n",
        "vectors = [[]]\n",
        "cos = [[]]"
      ],
      "metadata": {
        "id": "YH3IhHNmhSIy"
      },
      "id": "YH3IhHNmhSIy",
      "execution_count": null,
      "outputs": []
    },
    {
      "cell_type": "code",
      "source": [
        "def addUrl(url):\n",
        "  page = requests.get(url)\n",
        "  soup = BeautifulSoup(page.content, 'html.parser') \n",
        "  paragraphs = soup.find_all(\"p\")\n",
        "\n",
        "  for paragraph in paragraphs:\n",
        "    if paragraph.find(\"span\") == None and paragraph.parent.find(\"a\") != None:\n",
        "      text = npl(paragraph.get_text())\n",
        "      for sentence in text.sents:\n",
        "        sentences.append(sentence)\n",
        "        for word in sentence:\n",
        "          if word.text not in words[0] and word.dep_ != \"punct\" and word.dep_ != \"dep\" and word.dep_ != \"SPACE\":\n",
        "            words[0].append(word.text)\n",
        "\n",
        "addUrl(\"https://www.techtarget.com/searchenterpriseai/definition/natural-language-processing-NLP\")\n",
        "addUrl(\"https://hbr.org/2022/04/the-power-of-natural-language-processing\")\n",
        "addUrl(\"https://monkeylearn.com/natural-language-processing/\")\n",
        "addUrl(\"https://www.javatpoint.com/nlp\")\n",
        "addUrl(\"https://www.sas.com/en_us/insights/analytics/what-is-natural-language-processing-nlp.html\")"
      ],
      "metadata": {
        "id": "pwAN6EdUkV3L"
      },
      "id": "pwAN6EdUkV3L",
      "execution_count": null,
      "outputs": []
    },
    {
      "cell_type": "code",
      "execution_count": null,
      "metadata": {
        "id": "LFAfsQ_ya10t"
      },
      "outputs": [],
      "source": [
        "for sentenceIndex in range(len(sentences)):\n",
        "  words.append([])\n",
        "  wordCountPerSentence.append(0)\n",
        "  for wordIndex in range(len(words[0])):\n",
        "    countWordOnSentence = 0\n",
        "    for word in sentences[sentenceIndex]:\n",
        "      if words[0][wordIndex] == word.text:\n",
        "        countWordOnSentence += 1\n",
        "        wordCountPerSentence[sentenceIndex+1] += 1\n",
        "    words[sentenceIndex+1].append(countWordOnSentence)"
      ],
      "id": "LFAfsQ_ya10t"
    },
    {
      "cell_type": "code",
      "source": [
        "for x in range(1, len(wordCountPerSentence)):\n",
        "  tf.append([])\n",
        "  for y in range(len(words[x])):\n",
        "    tf[x].append(0.0)\n",
        "    if wordCountPerSentence[x] != 0:\n",
        "      tf[x][y] = words[x][y] / wordCountPerSentence[x]"
      ],
      "metadata": {
        "id": "tcUlE-a0TCw4"
      },
      "id": "tcUlE-a0TCw4",
      "execution_count": null,
      "outputs": []
    },
    {
      "cell_type": "code",
      "source": [
        "for y in range(len(words[0])):\n",
        "  amountPerSentence.append(0)\n",
        "  for x in range(len(words) - 1):\n",
        "    amountPerSentence[y] += 1"
      ],
      "metadata": {
        "id": "H-onSl1AjjvX"
      },
      "id": "H-onSl1AjjvX",
      "execution_count": null,
      "outputs": []
    },
    {
      "cell_type": "code",
      "source": [
        "for i in range(len(words[0])):\n",
        "  idf.append(math.log(len(words)-1 / amountPerSentence[i]))"
      ],
      "metadata": {
        "id": "eTngurEKXwrm"
      },
      "id": "eTngurEKXwrm",
      "execution_count": null,
      "outputs": []
    },
    {
      "cell_type": "code",
      "source": [
        "for i in range(1, len(tf)):\n",
        "  tfidf.append([])\n",
        "  for j in range(len(tf[i])):\n",
        "    tfidf[i].append(tf[i][j] * idf[j])"
      ],
      "metadata": {
        "id": "boL-GA7ZYu16"
      },
      "id": "boL-GA7ZYu16",
      "execution_count": null,
      "outputs": []
    },
    {
      "cell_type": "code",
      "source": [
        "until = 2\n",
        "for v1Index in range(1, len(tfidf)):\n",
        "  cos.append([])\n",
        "  for v2Index in range(2, until):\n",
        "    if v1Index == v2Index:\n",
        "      cos[v1Index].append(1.0)\n",
        "    else:\n",
        "      value = np.dot(tfidf[v1Index],tfidf[v2Index])/np.linalg.norm(tfidf[v1Index]) / np.linalg.norm(tfidf[v2Index])\n",
        "      cos[v1Index].append(value)\n",
        "      cos[v2Index].append(value)\n",
        "  until += 1"
      ],
      "metadata": {
        "id": "z2PAUdnd_HF3"
      },
      "id": "z2PAUdnd_HF3",
      "execution_count": null,
      "outputs": []
    },
    {
      "cell_type": "code",
      "source": [
        "for x in range(len(cos) - 500):\n",
        "  print(cos[x])"
      ],
      "metadata": {
        "id": "jg-9gLmT_rZw"
      },
      "id": "jg-9gLmT_rZw",
      "execution_count": null,
      "outputs": []
    }
  ],
  "metadata": {
    "colab": {
      "collapsed_sections": [],
      "provenance": []
    },
    "kernelspec": {
      "display_name": "Python 3 (ipykernel)",
      "language": "python",
      "name": "python3"
    },
    "language_info": {
      "codemirror_mode": {
        "name": "ipython",
        "version": 3
      },
      "file_extension": ".py",
      "mimetype": "text/x-python",
      "name": "python",
      "nbconvert_exporter": "python",
      "pygments_lexer": "ipython3",
      "version": "3.9.12"
    }
  },
  "nbformat": 4,
  "nbformat_minor": 5
}